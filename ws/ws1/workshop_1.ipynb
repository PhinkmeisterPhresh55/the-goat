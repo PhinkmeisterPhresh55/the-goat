{
 "cells": [
  {
   "cell_type": "markdown",
   "metadata": {},
   "source": [
    "# Introduction to the Naive Bayes Classifier\n",
    "\n",
    "\n",
    "This notebook introduces Python, data analytics, and an online platform to practice them - Kaggle! We will go over the basics of data storage, manipulation, and visualization with Python. Then we will implement a statisical learning model to develop a classification predictor. To see how well our predictor performs, the answers from our predictor will be submitted to a Kaggle competition and scored. Links to more advanced data manipulation and analyses will be referenced thoroughout.\n",
    "\n",
    "**Warning:** Our goal is provide a starting point for Python data analytics, not to teach Python from the ground up or to address statistical learning at a detailed level. There will be references included for those who wants more details.\n",
    "\n",
    "The challenge is to predict survival on the Titanic. We will attempt this by implementing a statistical learning method called the Naive Bayesian Classifier. To implement and train our classifier we use three Python packages: Numpy, Pandas, Seaborn, and Scikit Learn. Numpy includes tools for linear algebra, statistical anlysis, and matrix manipulation. Pandas helps us store and manipulate data. Seaborn is used to visualize the data stored in Pandas. Finally, Scikit Learn includes the data analysis tools that we will use develop and train our predictive model.\n",
    "\n",
    "There are three sections of this notebook:\n",
    "\n",
    "1. Data wrangling\n",
    "    - Load data\n",
    "    - Fill in missing data\n",
    "2. Feature visualization\n",
    "3. Modeling\n",
    "    - Load model\n",
    "    - Train model\n",
    "    - Create predictions"
   ]
  },
  {
   "cell_type": "code",
   "execution_count": null,
   "metadata": {},
   "outputs": [],
   "source": [
    "# This Python 3 environment comes with many helpful analytics libraries installed\n",
    "# It is defined by the kaggle/python docker image: https://github.com/kaggle/docker-python\n",
    "# For example, here's several helpful packages to load in \n",
    "\n",
    "import numpy as np # linear algebra\n",
    "import pandas as pd # data processing, CSV file I/O (e.g. pd.read_csv)\n",
    "\n",
    "# Input data files are available in the \"../input/\" directory.\n",
    "# For example, running this (by clicking run or pressing Shift+Enter) will list the files in the input directory\n",
    "\n",
    "import os\n",
    "print(os.listdir(\"../input\"))\n",
    "\n",
    "# Any results you write to the current directory are saved as output."
   ]
  },
  {
   "cell_type": "markdown",
   "metadata": {},
   "source": [
    "## Section 1: Data Wrangling\n",
    "\n",
    "### Section 1A: Load Data\n",
    "\n",
    "FIrst we need to load the data with Pandas\n",
    "\n",
    "The function pd.read_csv(file_name) reads data from a csv file to create a DataFrame that stores data in a table. Pandas has other read functions, e.g. read_xlsx(), and read_pickle() which are also useful."
   ]
  },
  {
   "cell_type": "code",
   "execution_count": null,
   "metadata": {},
   "outputs": [],
   "source": [
    "#The train data has features (independent variables) and targets (dependent variable).\n",
    "#Feature examples are Name, Age, or Fare. The target is if the passenger survived.\n",
    "train=pd.read_csv('../input/train.csv')\n",
    "#We print the first 5 rows of the train dataset to show what this looks like:\n",
    "ntrain = train.shape[0] #this gets the number rows in the traning dataset\n",
    "print(\"Training data (\",ntrain,\"rows)\")\n",
    "\n",
    "#Display the data in Pandas: .head(n_rows) shows the first n rows of the DataFrame\n",
    "display(train.head(10))\n",
    "\n",
    "#The test dataset is used to test how well the classifier performs\n",
    "#Test data only has features, the targets are empty and must be predicted\n",
    "test=pd.read_csv('../input/test.csv')\n",
    "\n",
    "#Lets looks at the test data...\n",
    "ntest = test.shape[0]\n",
    "print(\"Test data (\",ntest,\"rows), notice that the survived column (target) is missing!\")\n",
    "display(test.head(10))"
   ]
  },
  {
   "cell_type": "markdown",
   "metadata": {},
   "source": [
    "After the train and test data are loaded, we combine them into a single DataFrame so we can inspect the data and fill in missing values.\n",
    "\n",
    "pd.concat() concatenates multiple DataFrames into a new DataFrame"
   ]
  },
  {
   "cell_type": "code",
   "execution_count": null,
   "metadata": {},
   "outputs": [],
   "source": [
    "df_all=pd.concat([train,test],axis=0)"
   ]
  },
  {
   "cell_type": "markdown",
   "metadata": {},
   "source": [
    "### Section 1B: Fill in missing data\n",
    "\n",
    "Now we inspect our data to determine how much data we have, what our features are, and the amount of missing data.\n",
    "\n",
    "DataFrame.info() shows the number of entries (rows) in a DataFrame, the number of features (columns), the type of data in each feature, and number of null (presumably missing) entries in each feature."
   ]
  },
  {
   "cell_type": "code",
   "execution_count": null,
   "metadata": {},
   "outputs": [],
   "source": [
    "#Use DataFrame.info() and print the results.\n",
    "print(df_all.info())"
   ]
  },
  {
   "cell_type": "markdown",
   "metadata": {},
   "source": [
    "In this notebook, we will only use the Age, Sex, and PClass features so it is important to know the way these features are recorded in the table and how much of that data is available. To investigate, let's take a look at four lines in the info() output:\n",
    "\n",
    "\n",
    "> \n",
    "> Int64Index: 1309 entries, 0 to 417'\n",
    "> \n",
    "> Age 1046 non-null float64\n",
    "> \n",
    "> Sex 1309 non-null object\n",
    ">\n",
    ">Pclass 1309 non-null int64\n",
    ">\n",
    "\n",
    "The line \"Int64Index...\" tells us that there are 1309 entries in the data set and the values of those entries range from 0 to 417. Here, we are concerned with the number of entries and will ignore the range.\n",
    "\n",
    "\"Age...\" shows that the feature labeled Age has 1046 entires that are not null values. This means that there are 263 missing entries for Age! We can also see that Age is \"float64\" data type - the entries are numbers and can have decimals. Before we can use the Age feature, we need to fill in these missing values.\n",
    "\n",
    "The other parts of the output provide similar information. The line for the feature \"Sex\" shows that there are 1309 entries for this feature, which means it does not have any missing data! Sex is an \"object\" datatype - in this case a string for 'male' or 'female' . Later, we will convert these categorical labels to numbers so that they can be interpreted by our model.\n",
    "\n",
    "The line for the passenger class feature, \"PClass,\" also has 1309 entries, The datatye for PClass is \"Int64\" - it can only be a real number without decimals. Lucky us, we don't need to do anything with this feature!\n",
    "\n",
    "#### Fill in Age values\n",
    "\n",
    "Now we fill in the missing Age values with the median age in the dataset. To do this we use a combination of functions:\n",
    "\n",
    "- DataFrame.fillna(value): this function fills the missing values in the DataFrame with the input value.\n",
    "- DataFrame.median(): this function gets the median value from columns in a DataFrame."
   ]
  },
  {
   "cell_type": "code",
   "execution_count": null,
   "metadata": {},
   "outputs": [],
   "source": [
    "#First we get the median age by calling DataFrame.median() on the 'Age' column\n",
    "age_med=df_all['Age'].median()\n",
    "\n",
    "#Print the Median Age\n",
    "print('Median Age = {}'.format(age_med))\n",
    "\n",
    "#Fill in the missing ages with the median values and overwrite previous column\n",
    "df_all['Age']=df_all['Age'].fillna(age_med)\n",
    "\n",
    "display(df_all.head(10))"
   ]
  },
  {
   "cell_type": "markdown",
   "metadata": {},
   "source": [
    "#### Convert Sex to numeric values\n",
    "\n",
    "The Sex feature must be converted to numeric values so that it can be used in model. To encode 'male' and 'female' into numbers we replace 'female' with 1 and 'male' with 0. This denotes the Sex feature as a binary variable (1 or 0 variable). We do this with the replace function:\n",
    "\n",
    "- DataFrame.replace(value_to_replace, replacement_value): this is pretty straight-forward, it replaces a value in the dataframe with another value."
   ]
  },
  {
   "cell_type": "code",
   "execution_count": null,
   "metadata": {},
   "outputs": [],
   "source": [
    "#Replace the strings in the 'Sex' column with numbers\n",
    "df_all['Sex']=df_all['Sex'].replace('male',0)\n",
    "df_all['Sex']=df_all['Sex'].replace('female',1)\n",
    "\n",
    "#Look at the changed column\n",
    "display(df_all.head())"
   ]
  },
  {
   "cell_type": "markdown",
   "metadata": {},
   "source": [
    "## Section 2: Feature visualization\n",
    "\n",
    "We have our three features - Age, Sex, PClass - formatted for analysis. But first let's visualize the these features to see what they tell us about passenger survival. We visualize using the Python package, Seaborn. Specifically, the function pairplot plots the pairwise relationships in a dataset:\n",
    "\n",
    "- sns.pairplot(dataset, vars=variables_to_plot, hue=comparison_aspects): this plots the pairs of variables_to_plot in the dataset separated by the their value in terms of the hue variable. See https://seaborn.pydata.org/generated/seaborn.pairplot.html for examples and documentation."
   ]
  },
  {
   "cell_type": "code",
   "execution_count": null,
   "metadata": {},
   "outputs": [],
   "source": [
    "#Import the package\n",
    "import seaborn as sns"
   ]
  },
  {
   "cell_type": "code",
   "execution_count": null,
   "metadata": {},
   "outputs": [],
   "source": [
    "#Visualize the training data to differentiate between passengers who survived\n",
    "#Split the data\n",
    "train=df_all[:ntrain]\n",
    "\n",
    "#Plot the data\n",
    "sns.pairplot(train,vars=['Age','Sex','Pclass',],hue='Survived',)"
   ]
  },
  {
   "cell_type": "markdown",
   "metadata": {},
   "source": [
    "_Remember! Died is Survived=0 and Lived is Survived=1_\n",
    "\n",
    "The plot above has features on the x- and y- axes and the values are color-coded by if the passenger survived or not. The plots on the diagonal show the histogram of each feature separated by the the value of Survived. The off-diagonal plots show the pairwise comparison of each feature and are color-coded by the value of Survived.\n",
    "\n",
    "Based on the historgrams on the diagonals, we see that Sex and Pclass appear to be related to the chance of survival. Males died more often than females and third class passengers died more often than first and second class passengers. We also see in Age that younger passengers appear to survive more often. As they say, \"Rich women and children first!\"\n",
    "\n",
    "Now we will use these features to train a model and predict the survival of passengers in the test set.\n",
    "\n",
    "## Step 3: Modeling\n",
    "\n",
    "Now that we have the features we care about, we must create a model to predict survival based off of those features. Survival is categorical, passengers either survived or did not, so we use a classifier model. We use a Naive Bayesian Classifier in this model. This requires three steps:\n",
    "\n",
    "1. Load the model from Scikit learn\n",
    "    - See http://scikit-learn.org/stable/modules/generated/sklearn.naive_bayes.GaussianNB.html for the model details.\n",
    "    - Refer to \"The elements of statistical learning \" (2017) p. 210-211 for a description of the Naive Bayesian Classifier.\n",
    "2. Train the model with the training data\n",
    "3. Predict survival for the test data"
   ]
  },
  {
   "cell_type": "code",
   "execution_count": null,
   "metadata": {},
   "outputs": [],
   "source": [
    "#Load the model from the sklearn package\n",
    "#See http://scikit-learn.org/stable/modules/generated/sklearn.naive_bayes.GaussianNB.html\n",
    "from sklearn.naive_bayes import GaussianNB\n",
    "\n",
    "#Now call the model so we can train it\n",
    "clf=GaussianNB()"
   ]
  },
  {
   "cell_type": "code",
   "execution_count": null,
   "metadata": {},
   "outputs": [],
   "source": [
    "#Train the model\n",
    "#First, separate the features and target\n",
    "y_train=train['Survived'].values\n",
    "x_train=train[['Age','Sex','Pclass']].values\n",
    "\n",
    "#Now train the model on the features and target\n",
    "clf.fit(X=x_train,y=y_train)\n",
    "\n",
    "#Check accuracy on training set\n",
    "#Technically, we should use cross-validation to check accuracy.\n",
    "#Cross-validation helps to prevent overfitting the model by chasing training accuracy\n",
    "print('Bayesian Classifier Score = {}'.format(clf.score(X=x_train,y=y_train)))"
   ]
  },
  {
   "cell_type": "code",
   "execution_count": null,
   "metadata": {},
   "outputs": [],
   "source": [
    "#Now we predict the test set values\n",
    "#First we get the test values\n",
    "test_df=df_all[ntrain:]\n",
    "x_test=test_df[['Age','Sex','Pclass']].values\n",
    "\n",
    "#Now predict our results\n",
    "results=clf.predict(x_test)"
   ]
  },
  {
   "cell_type": "markdown",
   "metadata": {},
   "source": [
    "### Submit our results to the Kaggle competition!\n",
    "\n",
    "**NOTE:** You will *NOT* be able to submit this notebook to the Kaggle competition here.  In order to submit this to Kaggle, you will need to create an account and fork the notebook here:\n",
    "\n",
    "https://www.kaggle.com/cshields/introduction-to-naive-bayesian-classifier/notebook\n",
    "\n",
    "\n",
    "Convert our results to a .csv format required for submission\n",
    "Click \"Commit & Run\" button at the top right of the webpage\n",
    "Click the \"<\" arrow next to \"Commit & Run\"\n",
    "In the right pane that opens up go to the \"Versions\" tab, then the \"Output\" tab, and click \"Submit to Competition\""
   ]
  },
  {
   "cell_type": "code",
   "execution_count": null,
   "metadata": {},
   "outputs": [],
   "source": [
    "#Convert the results to int datatypes (real numbers)\n",
    "results=[int(i) for i in results]\n",
    "\n",
    "#Get passenger id's from test set with the .iloc command\n",
    "results_id=df_all['PassengerId'].iloc[ntrain:].values\n",
    "\n",
    "#Create a dataframe for submission\n",
    "submission=pd.DataFrame({'PassengerId':results_id,'Survived':results})\n",
    "\n",
    "#Check what the submission looks like\n",
    "display(submission.head(10))\n",
    "\n",
    "#Save the dataFrame as a .csv (save to Kaggle)\n",
    "submission.to_csv('submisison.csv',index=False)\n",
    "\n",
    "#Now complete steps 2, 3, and 4 to submit for scoring!"
   ]
  }
 ],
 "metadata": {
  "kernelspec": {
   "display_name": "Python 3",
   "language": "python",
   "name": "python3"
  },
  "language_info": {
   "codemirror_mode": {
    "name": "ipython",
    "version": 3
   },
   "file_extension": ".py",
   "mimetype": "text/x-python",
   "name": "python",
   "nbconvert_exporter": "python",
   "pygments_lexer": "ipython3",
   "version": "3.6.3"
  }
 },
 "nbformat": 4,
 "nbformat_minor": 2
}
